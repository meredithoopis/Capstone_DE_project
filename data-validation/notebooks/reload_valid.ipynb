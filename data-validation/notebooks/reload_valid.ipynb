{
 "cells": [
  {
   "cell_type": "code",
   "execution_count": null,
   "metadata": {},
   "outputs": [],
   "source": [
    "import great_expectations as gx\n",
    "import pandas as pd\n",
    "\n",
    "from great_expectations.data_context import FileDataContext\n",
    "\n",
    "context = FileDataContext.create(project_root_dir=\".\")\n",
    "\n",
    "# You can take a look at all configurations related to GX here\n",
    "print(context)"
   ]
  },
  {
   "cell_type": "code",
   "execution_count": null,
   "metadata": {},
   "outputs": [],
   "source": [
    "context.sources.add_pandas_filesystem(\n",
    "    name=\"my_ds_2\", base_directory=\"../data/yellow_tripdata/\"\n",
    ")"
   ]
  },
  {
   "cell_type": "code",
   "execution_count": null,
   "metadata": {},
   "outputs": [],
   "source": [
    "my_ds = context.datasources[\"my_ds_2\"]\n",
    "\n",
    "my_batching_regex = \"yellow_tripdata_2022-.*.parquet\"\n",
    "\n",
    "# Create the data asset (as one or more files from our data source)\n",
    "my_asset = my_ds.add_parquet_asset(\n",
    "    name=\"my_tripdata_data_asset\", batching_regex=my_batching_regex\n",
    ")\n",
    "\n",
    "# Define a Batch Request to include all batches in the available data set\n",
    "my_batch_request = my_asset.build_batch_request()\n",
    "batches = my_asset.get_batch_list_from_batch_request(my_batch_request)"
   ]
  },
  {
   "cell_type": "code",
   "execution_count": null,
   "metadata": {},
   "outputs": [],
   "source": [
    "for batch in batches:\n",
    "    print(batch.batch_spec)"
   ]
  },
  {
   "cell_type": "code",
   "execution_count": null,
   "metadata": {},
   "outputs": [],
   "source": [
    "asset_validator = context.get_validator(\n",
    "    batch_request=my_batch_request,\n",
    "    expectation_suite_name=\"default\",\n",
    ")\n",
    "asset_validator.head()"
   ]
  },
  {
   "cell_type": "code",
   "execution_count": null,
   "metadata": {},
   "outputs": [],
   "source": [
    "checkpoint = context.add_or_update_checkpoint(\n",
    "    name=\"yellow_tripdata_asset_checkpoint\",\n",
    "    validator=asset_validator\n",
    ")\n",
    "\n",
    "# Get the result after validation\n",
    "checkpoint_result = checkpoint.run()\n",
    "\n",
    "# Quick view on the validation result\n",
    "context.view_validation_result(checkpoint_result)"
   ]
  }
 ],
 "metadata": {
  "language_info": {
   "name": "python"
  }
 },
 "nbformat": 4,
 "nbformat_minor": 2
}
